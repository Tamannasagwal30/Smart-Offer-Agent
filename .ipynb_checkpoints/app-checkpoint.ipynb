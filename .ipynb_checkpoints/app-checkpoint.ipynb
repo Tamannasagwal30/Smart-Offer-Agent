{
 "cells": [
  {
   "cell_type": "code",
   "execution_count": 1,
   "id": "d563fbdc-983e-4547-bdf6-75af96481da2",
   "metadata": {},
   "outputs": [],
   "source": [
    "import streamlit as st\n",
    "import pandas as pd\n",
    "from recommender import get_recommendations"
   ]
  },
  {
   "cell_type": "code",
   "execution_count": 2,
   "id": "84ce9483-0018-48f9-955f-d3edbc82f83d",
   "metadata": {},
   "outputs": [
    {
     "name": "stderr",
     "output_type": "stream",
     "text": [
      "2025-07-13 14:01:56.468 \n",
      "  \u001b[33m\u001b[1mWarning:\u001b[0m to view this Streamlit app on a browser, run it with the following\n",
      "  command:\n",
      "\n",
      "    streamlit run /opt/anaconda3/lib/python3.12/site-packages/ipykernel_launcher.py [ARGUMENTS]\n",
      "2025-07-13 14:01:56.470 Session state does not function when running a script without `streamlit run`\n"
     ]
    }
   ],
   "source": [
    "#Load Data\n",
    "users = pd.read_csv(\"data/users.csv\")\n",
    "offers = pd.read_csv(\"data/offers.csv\")\n",
    "context = pd.read_csv(\"data/context.csv\")\n",
    "\n",
    "st.set_page_config(page_title = \"SMART OFFER AGENT\", layout = \"centered\")\n",
    "st.title(\"SMART OFFER AGENT - PERSONALIZED RECOMMENDER\")\n",
    "st.markdown(\"\"\"\n",
    "Welcome to the **Smart Offer Agent** - a proof of concept inspired by Crayon Data's *maya.ai* platform\n",
    "This mini-engine recommends top 3 personalized offers based on a user's taste profile and real-time context like weather, rain and occasion\n",
    "It blends:\n",
    "-Taste profiling using TF-IDF\n",
    "-Contextual filtering\n",
    "-Real-time scoring\n",
    "\n",
    "Ready to show how personalization drives engagement? Let’s go!\n",
    "\"\"\")\n",
    "\n",
    "#User Selector\n",
    "user_id = st.selectbox(\"Select User\", users['user_id'])\n",
    "user_name = users[users['user_id'] == user_id]['name'].values[0]\n",
    "st.markdown(f\"Hello, {user_name}\")\n",
    "\n",
    "#Context Inputs\n",
    "weather = st.selectbox(\"Current Weather\", context['weather'].unique())\n",
    "time_of_day = st.selectbox(\"Time of Day\", context['time_of_day'].unique())\n",
    "occasion = st.selectbox(\"Occasion\", context['occasion'].unique())\n",
    "\n",
    "#Button\n",
    "if st.button(\"Get Smart Recommendations\"):\n",
    "    top_offers = get_recommendations(user_id, weather, time_of_day, occasion, users_df= users, offers_df = offers)\n",
    "    st.subheader(\"Top Personalized offers for you\")\n",
    "    for i, row in top_offers.iterrows():\n",
    "        st.markdown(f\"\"\"\n",
    "        ---  \n",
    "        **{row['offer_title']}**  \n",
    "        {row['offer_desc']}  \n",
    "        **Final Score:** `{row['final_score']:.2f}`  \n",
    "        _Why this offer?_  \n",
    "        - Taste Match Score: `{row['taste_score']:.2f}`  \n",
    "        - Context Match Score: `{row['context_score']:.2f}`\n",
    "        \"\"\")\n"
   ]
  },
  {
   "cell_type": "code",
   "execution_count": null,
   "id": "36323b29-3622-4796-bb79-05e969822c75",
   "metadata": {},
   "outputs": [],
   "source": []
  }
 ],
 "metadata": {
  "kernelspec": {
   "display_name": "Python [conda env:base] *",
   "language": "python",
   "name": "conda-base-py"
  },
  "language_info": {
   "codemirror_mode": {
    "name": "ipython",
    "version": 3
   },
   "file_extension": ".py",
   "mimetype": "text/x-python",
   "name": "python",
   "nbconvert_exporter": "python",
   "pygments_lexer": "ipython3",
   "version": "3.12.7"
  }
 },
 "nbformat": 4,
 "nbformat_minor": 5
}
