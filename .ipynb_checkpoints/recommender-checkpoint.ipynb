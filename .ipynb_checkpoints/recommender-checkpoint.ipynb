{
 "cells": [
  {
   "cell_type": "code",
   "execution_count": 1,
   "id": "02ad362a-1666-431b-b5a2-206fd52c893d",
   "metadata": {},
   "outputs": [],
   "source": [
    "import pandas as pd\n",
    "from sklearn.feature_extraction.text import TfidfVectorizer\n",
    "from sklearn.metrics.pairwise import cosine_similarity"
   ]
  },
  {
   "cell_type": "code",
   "execution_count": 2,
   "id": "85d89603-7ed0-4fe5-9855-6df5205e184c",
   "metadata": {},
   "outputs": [],
   "source": [
    "def get_recommendations(user_id, weather, time_of_day, occasion, users_df, offers_df):\n",
    "    #Get User Tags\n",
    "    user_tags = users_df[users_df['user_id'] == user_id]['tags'].values[0]\n",
    "\n",
    "    #Combine all tags from offers for TF-IDF\n",
    "    offer_tags = offers_df['taste_tags'].fillna('')\n",
    "\n",
    "    #Create TF-IDF Matrix\n",
    "    tfidf = TfidfVectorizer()\n",
    "    tfidf_matrix = tfidf.fit_transform([user_tags] + offer_tags.tolist())\n",
    "\n",
    "    #Compute Cosine Similarity\n",
    "    cosine_sim = cosine_similarity(tfidf_matrix[0:1], tfidf_matrix[1:]).flatten()\n",
    "\n",
    "    #Add similarity scores to offers\n",
    "    offers_df = offers_df.copy()\n",
    "    offers_df['taste_score'] = cosine_sim\n",
    "\n",
    "    #Add Context Score\n",
    "    def context_match_score(context_str):\n",
    "        tags = context_str.lower().split(', ')\n",
    "        score = 0\n",
    "        if weather.lower() in tags:\n",
    "            score += 0.3\n",
    "        if time_of_day.lower() in tags:\n",
    "            score += 0.3\n",
    "        if occasion.lower() in tags:\n",
    "            score += 0.3\n",
    "        return score\n",
    "    offers_df['context_score'] = offers_df['context_tags'].apply(context_match_score)\n",
    "\n",
    "    #Final Score = Taste + Context\n",
    "    offers_df['final_score'] = offers_df['taste_score'] + offers_df['context_score']\n",
    "\n",
    "    #Return Top 3 Offers\n",
    "    top_offers = offers_df.sort_values(by = 'final_score', ascending = False).head(3)\n",
    "    return top_offers[['offer_title', 'offer_desc', 'final_score']]\n",
    "               "
   ]
  },
  {
   "cell_type": "code",
   "execution_count": null,
   "id": "01195267-97dc-4d81-9190-66e1cf42d317",
   "metadata": {},
   "outputs": [],
   "source": []
  }
 ],
 "metadata": {
  "kernelspec": {
   "display_name": "Python [conda env:base] *",
   "language": "python",
   "name": "conda-base-py"
  },
  "language_info": {
   "codemirror_mode": {
    "name": "ipython",
    "version": 3
   },
   "file_extension": ".py",
   "mimetype": "text/x-python",
   "name": "python",
   "nbconvert_exporter": "python",
   "pygments_lexer": "ipython3",
   "version": "3.12.7"
  }
 },
 "nbformat": 4,
 "nbformat_minor": 5
}
